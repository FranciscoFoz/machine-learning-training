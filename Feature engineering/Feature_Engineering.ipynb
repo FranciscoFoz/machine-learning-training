{
 "cells": [
  {
   "attachments": {},
   "cell_type": "markdown",
   "metadata": {},
   "source": [
    "# Feature Engineering"
   ]
  },
  {
   "attachments": {},
   "cell_type": "markdown",
   "metadata": {},
   "source": [
    "# 1- Pipeline do Machine Learning"
   ]
  },
  {
   "attachments": {},
   "cell_type": "markdown",
   "metadata": {},
   "source": [
    "### Dados\n",
    "\n",
    "Dados são observações do mundo real\n",
    "\n",
    "### Por que coletamos dados?\n",
    "\n",
    "Porque dados nos ajudam a responder perguntas.\n",
    "\n",
    "### Trabalhar com dados\n",
    "\n",
    "Trabalhar com dados não é algo simples.\n",
    "São diversos entre eles, vêm de fontes distintas, usam aplicações diferentes...\n",
    "\n",
    "Para isso é necessário uma modelagem matemática -> Modelagem estatística.\n",
    "\n",
    "\n",
    "### Features (Características ou Recursos ou Atributos)\n",
    "\n",
    "Features são as representações númericas de dados brutos.\n",
    "Eles derivam a partir do dado disponível e há diversas formas de se realizar essa transformação.\n",
    "A melhor transformação, dependerá do tipo de dado e modelo que será utilizado.\n",
    "\n",
    "\n",
    "### Avaliação do modelo\n",
    "\n",
    "DADOS -----------FEATURES + MODELOS----------------> INSIGHTS\n",
    "\n",
    "        \n",
    "Feature ruim = Modelo mais complicado\n",
    "\n",
    "\n",
    "\n"
   ]
  },
  {
   "attachments": {},
   "cell_type": "markdown",
   "metadata": {},
   "source": [
    "# 2 - Feature Engineering básica"
   ]
  },
  {
   "attachments": {},
   "cell_type": "markdown",
   "metadata": {},
   "source": [
    "# 3 - Engenharia de recursos para texto natural\n"
   ]
  },
  {
   "attachments": {},
   "cell_type": "markdown",
   "metadata": {},
   "source": [
    "# 4 - Feature Scaling\n"
   ]
  },
  {
   "attachments": {},
   "cell_type": "markdown",
   "metadata": {},
   "source": [
    "# 5 - Variáveis categóricas\n"
   ]
  },
  {
   "attachments": {},
   "cell_type": "markdown",
   "metadata": {},
   "source": [
    "# 6 - Redução de Dimensionalidade\n"
   ]
  },
  {
   "attachments": {},
   "cell_type": "markdown",
   "metadata": {},
   "source": [
    "# 7 - K-Means como técnica de Feature Engineering\n"
   ]
  },
  {
   "attachments": {},
   "cell_type": "markdown",
   "metadata": {},
   "source": [
    "# 8 - Feature Engineering em imagens\n"
   ]
  },
  {
   "attachments": {},
   "cell_type": "markdown",
   "metadata": {},
   "source": [
    "# 9 - Aplicando técnicas para a criação de um Recomendador"
   ]
  }
 ],
 "metadata": {
  "kernelspec": {
   "display_name": "Python 3",
   "language": "python",
   "name": "python3"
  },
  "language_info": {
   "name": "python",
   "version": "3.10.6"
  },
  "orig_nbformat": 4,
  "vscode": {
   "interpreter": {
    "hash": "916dbcbb3f70747c44a77c7bcd40155683ae19c65e1c03b4aa3499c5328201f1"
   }
  }
 },
 "nbformat": 4,
 "nbformat_minor": 2
}
