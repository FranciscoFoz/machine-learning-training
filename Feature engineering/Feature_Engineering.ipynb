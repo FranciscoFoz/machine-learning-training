{
 "cells": [
  {
   "attachments": {},
   "cell_type": "markdown",
   "metadata": {},
   "source": [
    "# Feature Engineering"
   ]
  },
  {
   "attachments": {},
   "cell_type": "markdown",
   "metadata": {},
   "source": [
    "# 1- Pipeline do Machine Learning"
   ]
  },
  {
   "attachments": {},
   "cell_type": "markdown",
   "metadata": {},
   "source": [
    "### Dados\n",
    "\n",
    "Dados são observações do mundo real\n",
    "\n",
    "### Por que coletamos dados?\n",
    "\n",
    "Porque dados nos ajudam a responder perguntas.\n",
    "\n",
    "### Trabalhar com dados\n",
    "\n",
    "Trabalhar com dados não é algo simples.\n",
    "São diversos entre eles, vêm de fontes distintas, usam aplicações diferentes...\n",
    "\n",
    "Para isso é necessário uma modelagem matemática -> Modelagem estatística.\n",
    "\n",
    "\n",
    "### Features (Características ou Recursos ou Atributos)\n",
    "\n",
    "Features são as representações númericas de dados brutos.\n",
    "Eles derivam a partir do dado disponível e há diversas formas de se realizar essa transformação.\n",
    "A melhor transformação, dependerá do tipo de dado e modelo que será utilizado.\n",
    "\n",
    "\n",
    "### Avaliação do modelo\n",
    "\n",
    "DADOS -----------FEATURES + MODELOS----------------> INSIGHTS\n",
    "\n",
    "        \n",
    "Feature ruim = Modelo mais complicado\n",
    "\n",
    "\n",
    "\n"
   ]
  },
  {
   "attachments": {},
   "cell_type": "markdown",
   "metadata": {},
   "source": [
    "# 2 - Feature Engineering básica"
   ]
  },
  {
   "attachments": {},
   "cell_type": "markdown",
   "metadata": {},
   "source": [
    "## Dados numéricos\n",
    "\n",
    "Os dados numéricos já estão em um formato que pode ser facilmente assimilado por modelos matemáticos, mas isso não significa que a engenharia de recursos não seja mais necessária.\n",
    "\n",
    "Boas características não devem apenas representar aspectos salientes dos dados, mas também estar de acordo com as\n",
    "**suposições do modelo**\n",
    "\n",
    "### 1. Magnitude\n",
    "Só precisamos saber se é positivo ou negativo? \n",
    "Ou talvez só precisemos saber a magnitude em uma granularidade muito grosseira?\n",
    "\n",
    "Essa verificação é particularmente importante para números acumulados automaticamente, como contagens – o número de visitas diárias a um site, o número de avaliações recebidas por um restaurante, etc.\n",
    "\n",
    "### 2. Escala dos recursos\n",
    "Quais são os maiores e os menores valores?\n",
    "Eles abrangem várias ordens de magnitude? \n",
    "\n",
    "Modelos que são funções suaves de recursos de entrada são sensíveis à escala da entrada. \n",
    "\n",
    "*Por exemplo, 3x + 1 é uma função linear simples da entrada x, e a escala de sua saída depende diretamente da escala da entrada.*\n",
    "Outros exemplos incluem agrupamento k-means, métodos de vizinhos mais próximos, núcleos de função de base radial (RBF) e qualquer coisa que use a distância euclidiana. \n",
    "Para esses modelos e componentes de modelagem, geralmente é uma boa ideia normalizar os recursos para que a saída permaneça em uma escala esperada.\n",
    "\n",
    "As funções lógicas, por outro lado, não são sensíveis à escala de recursos de entrada. \n",
    "Sua saída é binária, não importa quais sejam as entradas.\n",
    "*Por exemplo, o AND lógico aceita quaisquer duas variáveis e gera 1 se e somente se ambas as entradas forem verdadeiras.*\n",
    "\n",
    "\n",
    "\n"
   ]
  },
  {
   "attachments": {},
   "cell_type": "markdown",
   "metadata": {},
   "source": [
    "Os **modelos de árvore de decisão** consistem em funções de etapa de recursos de entrada.\n",
    "\n",
    "    Portanto, modelos baseados em árvores de partição de espaço (árvores de decisão, máquinas com gradiente impulsionado, florestas aleatórias)  não são sensíveis à escala.\n",
    "\n",
    "    A única exceção é se a escala da entrada crescer ao longo do tempo, que é o caso se o recurso for uma contagem\n",
    "    acumulada de algum tipo - eventualmente, ele crescerá fora do intervalo em que a árvore foi\n",
    "    treinada. \n",
    "\n",
    "**Se este for o caso, pode ser necessário redimensionar as entradas periodicamente.**\n"
   ]
  },
  {
   "attachments": {},
   "cell_type": "markdown",
   "metadata": {},
   "source": [
    "### 3. Distribuição de recursos numéricos\n",
    "\n",
    "**A distribuição resume a probabilidade de assumir um determinado valor.**\n",
    "\n",
    "A distribuição dos recursos de entrada é mais importante para alguns modelos do que para outros.\n",
    "Por exemplo, o processo de treinamento de um modelo de regressão linear assume que os erros de previsão são distribuídos\n",
    "como um gaussiano. \n",
    "Isso geralmente é bom, exceto quando o alvo de previsão se espalha por várias ordens de magnitude. \n",
    "Nesse caso, a suposição de erro gaussiano provavelmente não é mais válida. \n",
    "Uma forma de lidar com isso é transformar a meta de produção para domar a magnitude do crescimento.\n",
    "(Falando estritamente, isso seria engenharia de destino, não engenharia de recursos.) \n",
    "\n",
    "\n",
    "Transformações logarítmicas, que são um tipo de transformação de potência, levam a distribuição da variável mais próxima de Gaussiana.\n",
    "Além dos recursos adaptados às suposições do modelo ou processo de treinamento, vários recursos podem ser compostos em conjunto em recursos mais complexos. \n",
    "A esperança é que recursos complexos possam capturar informações importantes de forma mais sucinta em dados brutos. \n"
   ]
  },
  {
   "attachments": {},
   "cell_type": "markdown",
   "metadata": {},
   "source": [
    "## Escalares, Vetores e Espaços\n",
    "\n",
    "* ESCALAR: Um único recurso numérico.\n",
    "* VETOR: Uma lista ordenada de escalares. Os vetores ficam dentro de um espaço vetorial.\n",
    "* ESPAÇO VETORIAL: forma de se visualizar os vetores de acordo com uma perspectiva.\n",
    "\n",
    "Na grande maioria dos aplicativos de aprendizado de máquina, a entrada para um modelo geralmente é rep\n"
   ]
  },
  {
   "attachments": {},
   "cell_type": "markdown",
   "metadata": {},
   "source": [
    "## Binarização\n",
    "\n",
    "Em um conjunto de dados de comportamento de escuta de músicas, não podemos necessariamente dizer que alguém que ouve \n",
    "uma música 20 vezes deve gostar dela duas vezes mais do que alguém que a ouve 10 vezes.\n",
    "\n",
    "Uma representação mais robusta da preferência do usuário é binarizar a contagem e recortar\n",
    "todas as contagens maiores que 1 para 1.\n",
    "\n",
    "    Ou seja, se o usuário ouviu uma música pelo menos uma vez, contamos como o usuário gostou da música. \n",
    "\n"
   ]
  },
  {
   "attachments": {},
   "cell_type": "markdown",
   "metadata": {},
   "source": [
    "### Quantificação ou binarização?\n",
    "\n"
   ]
  },
  {
   "attachments": {},
   "cell_type": "markdown",
   "metadata": {},
   "source": [
    "# 3 - Engenharia de recursos para texto natural\n"
   ]
  },
  {
   "attachments": {},
   "cell_type": "markdown",
   "metadata": {},
   "source": [
    "# 4 - Feature Scaling\n"
   ]
  },
  {
   "attachments": {},
   "cell_type": "markdown",
   "metadata": {},
   "source": [
    "# 5 - Variáveis categóricas\n"
   ]
  },
  {
   "attachments": {},
   "cell_type": "markdown",
   "metadata": {},
   "source": [
    "# 6 - Redução de Dimensionalidade\n"
   ]
  },
  {
   "attachments": {},
   "cell_type": "markdown",
   "metadata": {},
   "source": [
    "# 7 - K-Means como técnica de Feature Engineering\n"
   ]
  },
  {
   "attachments": {},
   "cell_type": "markdown",
   "metadata": {},
   "source": [
    "# 8 - Feature Engineering em imagens\n"
   ]
  },
  {
   "attachments": {},
   "cell_type": "markdown",
   "metadata": {},
   "source": [
    "# 9 - Aplicando técnicas para a criação de um Recomendador"
   ]
  }
 ],
 "metadata": {
  "kernelspec": {
   "display_name": "Python 3",
   "language": "python",
   "name": "python3"
  },
  "language_info": {
   "codemirror_mode": {
    "name": "ipython",
    "version": 3
   },
   "file_extension": ".py",
   "mimetype": "text/x-python",
   "name": "python",
   "nbconvert_exporter": "python",
   "pygments_lexer": "ipython3",
   "version": "3.10.6"
  },
  "orig_nbformat": 4,
  "vscode": {
   "interpreter": {
    "hash": "916dbcbb3f70747c44a77c7bcd40155683ae19c65e1c03b4aa3499c5328201f1"
   }
  }
 },
 "nbformat": 4,
 "nbformat_minor": 2
}
